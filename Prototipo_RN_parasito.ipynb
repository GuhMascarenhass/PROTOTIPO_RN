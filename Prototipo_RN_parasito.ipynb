{
 "cells": [
  {
   "cell_type": "code",
   "execution_count": 25,
   "metadata": {
    "trusted": true
   },
   "outputs": [],
   "source": [
    "# Importing all the libraries"
   ]
  },
  {
   "cell_type": "code",
   "execution_count": 26,
   "metadata": {
    "execution": {
     "iopub.execute_input": "2024-03-03T07:13:09.349741Z",
     "iopub.status.busy": "2024-03-03T07:13:09.34938Z",
     "iopub.status.idle": "2024-03-03T07:13:09.356468Z",
     "shell.execute_reply": "2024-03-03T07:13:09.355457Z",
     "shell.execute_reply.started": "2024-03-03T07:13:09.349715Z"
    },
    "trusted": true
   },
   "outputs": [],
   "source": [
    "import os\n",
    "import numpy as np\n",
    "import cv2\n",
    "from random import randint, choice\n",
    "from sklearn.model_selection import train_test_split\n",
    "from sklearn.utils import shuffle\n",
    "from PIL import Image, ImageOps\n",
    "from keras import  utils\n",
    "from keras.models import Sequential\n",
    "from keras.layers import Dense, GlobalAveragePooling2D\n",
    "from keras.preprocessing import image\n",
    "from keras.applications.mobilenet import MobileNet\n"
   ]
  },
  {
   "cell_type": "markdown",
   "metadata": {},
   "source": [
    "### O conjunto de dados utilizado é uma versão aumentada do conjunto de dados original, utilizando o ImageDataGenerator."
   ]
  },
  {
   "cell_type": "code",
   "execution_count": 27,
   "metadata": {
    "execution": {
     "iopub.execute_input": "2024-03-03T07:13:09.358753Z",
     "iopub.status.busy": "2024-03-03T07:13:09.358469Z",
     "iopub.status.idle": "2024-03-03T07:13:57.629347Z",
     "shell.execute_reply": "2024-03-03T07:13:57.628385Z",
     "shell.execute_reply.started": "2024-03-03T07:13:09.358731Z"
    },
    "trusted": true
   },
   "outputs": [
    {
     "data": {
      "text/plain": [
       "(4843, 224, 224, 3)"
      ]
     },
     "execution_count": 27,
     "metadata": {},
     "output_type": "execute_result"
    }
   ],
   "source": [
    "X_treinamento, Y_treinamento = [], []\n",
    "tamanho_img = 224\n",
    "parasitas = ['Entamoeba histolytica', 'Giardia_cyst']\n",
    "        \n",
    "for i in parasitas: \n",
    "    caminho_dataset = os.path.join(r\"dataset_proto_aug\\Train\", i)\n",
    "    for j in os.listdir(caminho_dataset):\n",
    "        img = cv2.imread(os.path.join(caminho_dataset, j)) \n",
    "        img = cv2.resize(img, (tamanho_img , tamanho_img )) \n",
    "        X_treinamento.append(img) \n",
    "        Y_treinamento.append(i)\n",
    "        \n",
    "X_train_np = np.array(X_treinamento) \n",
    "Y_Train_np = np.array(Y_treinamento)\n",
    "\n",
    "X_train, Y_train = shuffle(X_train_np, Y_Train_np, random_state = 101)\n",
    "X_train.shape"
   ]
  },
  {
   "cell_type": "markdown",
   "metadata": {},
   "source": [
    "# Train Test Split"
   ]
  },
  {
   "cell_type": "code",
   "execution_count": 28,
   "metadata": {
    "execution": {
     "iopub.execute_input": "2024-03-03T07:13:57.631212Z",
     "iopub.status.busy": "2024-03-03T07:13:57.630902Z",
     "iopub.status.idle": "2024-03-03T07:13:57.934455Z",
     "shell.execute_reply": "2024-03-03T07:13:57.933662Z",
     "shell.execute_reply.started": "2024-03-03T07:13:57.631188Z"
    },
    "trusted": true
   },
   "outputs": [],
   "source": [
    "x_train, x_test, y_train, y_test = train_test_split(X_train, Y_train, random_state = 101, test_size = 0.1)"
   ]
  },
  {
   "cell_type": "code",
   "execution_count": 29,
   "metadata": {
    "execution": {
     "iopub.execute_input": "2024-03-03T07:13:57.935816Z",
     "iopub.status.busy": "2024-03-03T07:13:57.93556Z",
     "iopub.status.idle": "2024-03-03T07:13:57.944305Z",
     "shell.execute_reply": "2024-03-03T07:13:57.943565Z",
     "shell.execute_reply.started": "2024-03-03T07:13:57.935794Z"
    },
    "trusted": true
   },
   "outputs": [],
   "source": [
    "y_train_new = []\n",
    "for i in y_train:\n",
    "    y_train_new.append(parasitas.index(i)) \n",
    "y_train = y_train_new\n",
    "y_train = utils.to_categorical(y_train)\n",
    "\n",
    "y_test_new = []\n",
    "for i in y_test:\n",
    "    y_test_new.append(parasitas.index(i))\n",
    "y_test = y_test_new\n",
    "y_test = utils.to_categorical(y_test)"
   ]
  },
  {
   "cell_type": "code",
   "execution_count": 30,
   "metadata": {
    "execution": {
     "iopub.execute_input": "2024-03-03T07:13:57.947786Z",
     "iopub.status.busy": "2024-03-03T07:13:57.946996Z",
     "iopub.status.idle": "2024-03-03T07:13:57.964036Z",
     "shell.execute_reply": "2024-03-03T07:13:57.96331Z",
     "shell.execute_reply.started": "2024-03-03T07:13:57.947761Z"
    },
    "trusted": true
   },
   "outputs": [
    {
     "name": "stdout",
     "output_type": "stream",
     "text": [
      "Train: (4358, 224, 224, 3) (4358, 2)\n",
      "Validation: (485, 224, 224, 3) (485, 2)\n"
     ]
    }
   ],
   "source": [
    "print('Train:', x_train.shape, y_train.shape)\n",
    "print('Validation:', x_test.shape, y_test.shape)"
   ]
  },
  {
   "cell_type": "markdown",
   "metadata": {},
   "source": [
    "# MobileNet Neural Network"
   ]
  },
  {
   "cell_type": "code",
   "execution_count": 31,
   "metadata": {
    "execution": {
     "iopub.execute_input": "2024-03-03T08:34:16.269364Z",
     "iopub.status.busy": "2024-03-03T08:34:16.268666Z",
     "iopub.status.idle": "2024-03-03T08:34:17.208956Z",
     "shell.execute_reply": "2024-03-03T08:34:17.208183Z",
     "shell.execute_reply.started": "2024-03-03T08:34:16.269327Z"
    },
    "trusted": true
   },
   "outputs": [],
   "source": [
    "mobile = MobileNet(weights = 'imagenet', include_top = False, input_shape = (224,224,3))"
   ]
  },
  {
   "cell_type": "code",
   "execution_count": 32,
   "metadata": {
    "execution": {
     "iopub.execute_input": "2024-03-03T08:34:17.210902Z",
     "iopub.status.busy": "2024-03-03T08:34:17.210551Z",
     "iopub.status.idle": "2024-03-03T08:34:17.50753Z",
     "shell.execute_reply": "2024-03-03T08:34:17.506748Z",
     "shell.execute_reply.started": "2024-03-03T08:34:17.21087Z"
    },
    "trusted": true
   },
   "outputs": [],
   "source": [
    "modelo_mobile = Sequential()\n",
    "\n",
    "modelo_mobile.add(mobile)\n",
    "modelo_mobile.add(GlobalAveragePooling2D())\n",
    "modelo_mobile.add(Dense(1024, activation = 'relu'))\n",
    "modelo_mobile.add(Dense(1024, activation = 'relu'))\n",
    "modelo_mobile.add(Dense(512, activation = 'relu'))\n",
    "modelo_mobile.add(Dense(2, activation = 'softmax'))"
   ]
  },
  {
   "cell_type": "code",
   "execution_count": 33,
   "metadata": {
    "execution": {
     "iopub.execute_input": "2024-03-03T08:34:17.51531Z",
     "iopub.status.busy": "2024-03-03T08:34:17.515013Z",
     "iopub.status.idle": "2024-03-03T08:34:17.549396Z",
     "shell.execute_reply": "2024-03-03T08:34:17.548515Z",
     "shell.execute_reply.started": "2024-03-03T08:34:17.515286Z"
    },
    "trusted": true
   },
   "outputs": [
    {
     "data": {
      "text/html": [
       "<pre style=\"white-space:pre;overflow-x:auto;line-height:normal;font-family:Menlo,'DejaVu Sans Mono',consolas,'Courier New',monospace\"><span style=\"font-weight: bold\">Model: \"sequential_1\"</span>\n",
       "</pre>\n"
      ],
      "text/plain": [
       "\u001b[1mModel: \"sequential_1\"\u001b[0m\n"
      ]
     },
     "metadata": {},
     "output_type": "display_data"
    },
    {
     "data": {
      "text/html": [
       "<pre style=\"white-space:pre;overflow-x:auto;line-height:normal;font-family:Menlo,'DejaVu Sans Mono',consolas,'Courier New',monospace\">┏━━━━━━━━━━━━━━━━━━━━━━━━━━━━━━━━━┳━━━━━━━━━━━━━━━━━━━━━━━━┳━━━━━━━━━━━━━━━┓\n",
       "┃<span style=\"font-weight: bold\"> Layer (type)                    </span>┃<span style=\"font-weight: bold\"> Output Shape           </span>┃<span style=\"font-weight: bold\">       Param # </span>┃\n",
       "┡━━━━━━━━━━━━━━━━━━━━━━━━━━━━━━━━━╇━━━━━━━━━━━━━━━━━━━━━━━━╇━━━━━━━━━━━━━━━┩\n",
       "│ mobilenet_1.00_224 (<span style=\"color: #0087ff; text-decoration-color: #0087ff\">Functional</span>) │ (<span style=\"color: #00d7ff; text-decoration-color: #00d7ff\">None</span>, <span style=\"color: #00af00; text-decoration-color: #00af00\">7</span>, <span style=\"color: #00af00; text-decoration-color: #00af00\">7</span>, <span style=\"color: #00af00; text-decoration-color: #00af00\">1024</span>)     │     <span style=\"color: #00af00; text-decoration-color: #00af00\">3,228,864</span> │\n",
       "├─────────────────────────────────┼────────────────────────┼───────────────┤\n",
       "│ global_average_pooling2d_1      │ (<span style=\"color: #00d7ff; text-decoration-color: #00d7ff\">None</span>, <span style=\"color: #00af00; text-decoration-color: #00af00\">1024</span>)           │             <span style=\"color: #00af00; text-decoration-color: #00af00\">0</span> │\n",
       "│ (<span style=\"color: #0087ff; text-decoration-color: #0087ff\">GlobalAveragePooling2D</span>)        │                        │               │\n",
       "├─────────────────────────────────┼────────────────────────┼───────────────┤\n",
       "│ dense_4 (<span style=\"color: #0087ff; text-decoration-color: #0087ff\">Dense</span>)                 │ (<span style=\"color: #00d7ff; text-decoration-color: #00d7ff\">None</span>, <span style=\"color: #00af00; text-decoration-color: #00af00\">1024</span>)           │     <span style=\"color: #00af00; text-decoration-color: #00af00\">1,049,600</span> │\n",
       "├─────────────────────────────────┼────────────────────────┼───────────────┤\n",
       "│ dense_5 (<span style=\"color: #0087ff; text-decoration-color: #0087ff\">Dense</span>)                 │ (<span style=\"color: #00d7ff; text-decoration-color: #00d7ff\">None</span>, <span style=\"color: #00af00; text-decoration-color: #00af00\">1024</span>)           │     <span style=\"color: #00af00; text-decoration-color: #00af00\">1,049,600</span> │\n",
       "├─────────────────────────────────┼────────────────────────┼───────────────┤\n",
       "│ dense_6 (<span style=\"color: #0087ff; text-decoration-color: #0087ff\">Dense</span>)                 │ (<span style=\"color: #00d7ff; text-decoration-color: #00d7ff\">None</span>, <span style=\"color: #00af00; text-decoration-color: #00af00\">512</span>)            │       <span style=\"color: #00af00; text-decoration-color: #00af00\">524,800</span> │\n",
       "├─────────────────────────────────┼────────────────────────┼───────────────┤\n",
       "│ dense_7 (<span style=\"color: #0087ff; text-decoration-color: #0087ff\">Dense</span>)                 │ (<span style=\"color: #00d7ff; text-decoration-color: #00d7ff\">None</span>, <span style=\"color: #00af00; text-decoration-color: #00af00\">2</span>)              │         <span style=\"color: #00af00; text-decoration-color: #00af00\">1,026</span> │\n",
       "└─────────────────────────────────┴────────────────────────┴───────────────┘\n",
       "</pre>\n"
      ],
      "text/plain": [
       "┏━━━━━━━━━━━━━━━━━━━━━━━━━━━━━━━━━┳━━━━━━━━━━━━━━━━━━━━━━━━┳━━━━━━━━━━━━━━━┓\n",
       "┃\u001b[1m \u001b[0m\u001b[1mLayer (type)                   \u001b[0m\u001b[1m \u001b[0m┃\u001b[1m \u001b[0m\u001b[1mOutput Shape          \u001b[0m\u001b[1m \u001b[0m┃\u001b[1m \u001b[0m\u001b[1m      Param #\u001b[0m\u001b[1m \u001b[0m┃\n",
       "┡━━━━━━━━━━━━━━━━━━━━━━━━━━━━━━━━━╇━━━━━━━━━━━━━━━━━━━━━━━━╇━━━━━━━━━━━━━━━┩\n",
       "│ mobilenet_1.00_224 (\u001b[38;5;33mFunctional\u001b[0m) │ (\u001b[38;5;45mNone\u001b[0m, \u001b[38;5;34m7\u001b[0m, \u001b[38;5;34m7\u001b[0m, \u001b[38;5;34m1024\u001b[0m)     │     \u001b[38;5;34m3,228,864\u001b[0m │\n",
       "├─────────────────────────────────┼────────────────────────┼───────────────┤\n",
       "│ global_average_pooling2d_1      │ (\u001b[38;5;45mNone\u001b[0m, \u001b[38;5;34m1024\u001b[0m)           │             \u001b[38;5;34m0\u001b[0m │\n",
       "│ (\u001b[38;5;33mGlobalAveragePooling2D\u001b[0m)        │                        │               │\n",
       "├─────────────────────────────────┼────────────────────────┼───────────────┤\n",
       "│ dense_4 (\u001b[38;5;33mDense\u001b[0m)                 │ (\u001b[38;5;45mNone\u001b[0m, \u001b[38;5;34m1024\u001b[0m)           │     \u001b[38;5;34m1,049,600\u001b[0m │\n",
       "├─────────────────────────────────┼────────────────────────┼───────────────┤\n",
       "│ dense_5 (\u001b[38;5;33mDense\u001b[0m)                 │ (\u001b[38;5;45mNone\u001b[0m, \u001b[38;5;34m1024\u001b[0m)           │     \u001b[38;5;34m1,049,600\u001b[0m │\n",
       "├─────────────────────────────────┼────────────────────────┼───────────────┤\n",
       "│ dense_6 (\u001b[38;5;33mDense\u001b[0m)                 │ (\u001b[38;5;45mNone\u001b[0m, \u001b[38;5;34m512\u001b[0m)            │       \u001b[38;5;34m524,800\u001b[0m │\n",
       "├─────────────────────────────────┼────────────────────────┼───────────────┤\n",
       "│ dense_7 (\u001b[38;5;33mDense\u001b[0m)                 │ (\u001b[38;5;45mNone\u001b[0m, \u001b[38;5;34m2\u001b[0m)              │         \u001b[38;5;34m1,026\u001b[0m │\n",
       "└─────────────────────────────────┴────────────────────────┴───────────────┘\n"
      ]
     },
     "metadata": {},
     "output_type": "display_data"
    },
    {
     "data": {
      "text/html": [
       "<pre style=\"white-space:pre;overflow-x:auto;line-height:normal;font-family:Menlo,'DejaVu Sans Mono',consolas,'Courier New',monospace\"><span style=\"font-weight: bold\"> Total params: </span><span style=\"color: #00af00; text-decoration-color: #00af00\">5,853,890</span> (22.33 MB)\n",
       "</pre>\n"
      ],
      "text/plain": [
       "\u001b[1m Total params: \u001b[0m\u001b[38;5;34m5,853,890\u001b[0m (22.33 MB)\n"
      ]
     },
     "metadata": {},
     "output_type": "display_data"
    },
    {
     "data": {
      "text/html": [
       "<pre style=\"white-space:pre;overflow-x:auto;line-height:normal;font-family:Menlo,'DejaVu Sans Mono',consolas,'Courier New',monospace\"><span style=\"font-weight: bold\"> Trainable params: </span><span style=\"color: #00af00; text-decoration-color: #00af00\">5,832,002</span> (22.25 MB)\n",
       "</pre>\n"
      ],
      "text/plain": [
       "\u001b[1m Trainable params: \u001b[0m\u001b[38;5;34m5,832,002\u001b[0m (22.25 MB)\n"
      ]
     },
     "metadata": {},
     "output_type": "display_data"
    },
    {
     "data": {
      "text/html": [
       "<pre style=\"white-space:pre;overflow-x:auto;line-height:normal;font-family:Menlo,'DejaVu Sans Mono',consolas,'Courier New',monospace\"><span style=\"font-weight: bold\"> Non-trainable params: </span><span style=\"color: #00af00; text-decoration-color: #00af00\">21,888</span> (85.50 KB)\n",
       "</pre>\n"
      ],
      "text/plain": [
       "\u001b[1m Non-trainable params: \u001b[0m\u001b[38;5;34m21,888\u001b[0m (85.50 KB)\n"
      ]
     },
     "metadata": {},
     "output_type": "display_data"
    }
   ],
   "source": [
    "modelo_mobile.summary()"
   ]
  },
  {
   "cell_type": "code",
   "execution_count": 34,
   "metadata": {
    "execution": {
     "iopub.execute_input": "2024-03-03T08:34:17.641423Z",
     "iopub.status.busy": "2024-03-03T08:34:17.641077Z",
     "iopub.status.idle": "2024-03-03T08:34:17.656025Z",
     "shell.execute_reply": "2024-03-03T08:34:17.655108Z",
     "shell.execute_reply.started": "2024-03-03T08:34:17.641395Z"
    },
    "trusted": true
   },
   "outputs": [],
   "source": [
    "modelo_mobile.compile(loss = 'categorical_crossentropy', optimizer = 'Adam', metrics = ['Accuracy']) "
   ]
  },
  {
   "cell_type": "code",
   "execution_count": 35,
   "metadata": {
    "execution": {
     "iopub.execute_input": "2024-03-03T08:34:17.657538Z",
     "iopub.status.busy": "2024-03-03T08:34:17.657187Z",
     "iopub.status.idle": "2024-03-03T08:37:38.421176Z",
     "shell.execute_reply": "2024-03-03T08:37:38.420373Z",
     "shell.execute_reply.started": "2024-03-03T08:34:17.657509Z"
    },
    "trusted": true
   },
   "outputs": [
    {
     "name": "stdout",
     "output_type": "stream",
     "text": [
      "Epoch 1/10\n",
      "\u001b[1m109/109\u001b[0m \u001b[32m━━━━━━━━━━━━━━━━━━━━\u001b[0m\u001b[37m\u001b[0m \u001b[1m113s\u001b[0m 950ms/step - Accuracy: 0.8814 - loss: 0.3928 - val_Accuracy: 0.9622 - val_loss: 0.2386\n",
      "Epoch 2/10\n",
      "\u001b[1m109/109\u001b[0m \u001b[32m━━━━━━━━━━━━━━━━━━━━\u001b[0m\u001b[37m\u001b[0m \u001b[1m106s\u001b[0m 977ms/step - Accuracy: 0.9864 - loss: 0.0415 - val_Accuracy: 0.9782 - val_loss: 0.0651\n",
      "Epoch 3/10\n",
      "\u001b[1m109/109\u001b[0m \u001b[32m━━━━━━━━━━━━━━━━━━━━\u001b[0m\u001b[37m\u001b[0m \u001b[1m108s\u001b[0m 991ms/step - Accuracy: 0.9899 - loss: 0.0355 - val_Accuracy: 0.9484 - val_loss: 0.2357\n",
      "Epoch 4/10\n",
      "\u001b[1m109/109\u001b[0m \u001b[32m━━━━━━━━━━━━━━━━━━━━\u001b[0m\u001b[37m\u001b[0m \u001b[1m107s\u001b[0m 983ms/step - Accuracy: 0.9947 - loss: 0.0146 - val_Accuracy: 0.8647 - val_loss: 0.6781\n",
      "Epoch 5/10\n",
      "\u001b[1m109/109\u001b[0m \u001b[32m━━━━━━━━━━━━━━━━━━━━\u001b[0m\u001b[37m\u001b[0m \u001b[1m105s\u001b[0m 966ms/step - Accuracy: 0.9965 - loss: 0.0096 - val_Accuracy: 1.0000 - val_loss: 6.0656e-05\n",
      "Epoch 6/10\n",
      "\u001b[1m109/109\u001b[0m \u001b[32m━━━━━━━━━━━━━━━━━━━━\u001b[0m\u001b[37m\u001b[0m \u001b[1m112s\u001b[0m 1s/step - Accuracy: 0.9926 - loss: 0.0209 - val_Accuracy: 0.9828 - val_loss: 0.0684\n",
      "Epoch 7/10\n",
      "\u001b[1m109/109\u001b[0m \u001b[32m━━━━━━━━━━━━━━━━━━━━\u001b[0m\u001b[37m\u001b[0m \u001b[1m114s\u001b[0m 1s/step - Accuracy: 0.9819 - loss: 0.0624 - val_Accuracy: 0.9943 - val_loss: 0.0251\n",
      "Epoch 8/10\n",
      "\u001b[1m109/109\u001b[0m \u001b[32m━━━━━━━━━━━━━━━━━━━━\u001b[0m\u001b[37m\u001b[0m \u001b[1m106s\u001b[0m 968ms/step - Accuracy: 0.9935 - loss: 0.0168 - val_Accuracy: 1.0000 - val_loss: 8.9570e-06\n",
      "Epoch 9/10\n",
      "\u001b[1m109/109\u001b[0m \u001b[32m━━━━━━━━━━━━━━━━━━━━\u001b[0m\u001b[37m\u001b[0m \u001b[1m105s\u001b[0m 967ms/step - Accuracy: 0.9976 - loss: 0.0080 - val_Accuracy: 0.9885 - val_loss: 0.0334\n",
      "Epoch 10/10\n",
      "\u001b[1m109/109\u001b[0m \u001b[32m━━━━━━━━━━━━━━━━━━━━\u001b[0m\u001b[37m\u001b[0m \u001b[1m103s\u001b[0m 942ms/step - Accuracy: 0.9935 - loss: 0.0214 - val_Accuracy: 0.9989 - val_loss: 0.0019\n"
     ]
    }
   ],
   "source": [
    "modelo_mobile_treinado = modelo_mobile.fit(x_train, y_train, epochs = 10,validation_split = 0.2)"
   ]
  },
  {
   "cell_type": "code",
   "execution_count": 36,
   "metadata": {
    "execution": {
     "iopub.execute_input": "2024-03-03T08:37:38.422812Z",
     "iopub.status.busy": "2024-03-03T08:37:38.422535Z",
     "iopub.status.idle": "2024-03-03T08:37:40.717032Z",
     "shell.execute_reply": "2024-03-03T08:37:40.716084Z",
     "shell.execute_reply.started": "2024-03-03T08:37:38.422789Z"
    },
    "trusted": true
   },
   "outputs": [
    {
     "name": "stdout",
     "output_type": "stream",
     "text": [
      "\u001b[1m5/5\u001b[0m \u001b[32m━━━━━━━━━━━━━━━━━━━━\u001b[0m\u001b[37m\u001b[0m \u001b[1m3s\u001b[0m 630ms/step - Accuracy: 1.0000 - loss: 9.2517e-04\n"
     ]
    },
    {
     "data": {
      "text/plain": [
       "[0.0016626556171104312, 1.0]"
      ]
     },
     "execution_count": 36,
     "metadata": {},
     "output_type": "execute_result"
    }
   ],
   "source": [
    "modelo_mobile.evaluate(x_test, y_test, batch_size = 100)"
   ]
  },
  {
   "cell_type": "markdown",
   "metadata": {},
   "source": [
    "# Escolha das imagens e converção\n"
   ]
  },
  {
   "cell_type": "code",
   "execution_count": 48,
   "metadata": {
    "execution": {
     "iopub.execute_input": "2024-03-03T08:37:40.718815Z",
     "iopub.status.busy": "2024-03-03T08:37:40.718434Z",
     "iopub.status.idle": "2024-03-03T08:37:40.762154Z",
     "shell.execute_reply": "2024-03-03T08:37:40.761274Z",
     "shell.execute_reply.started": "2024-03-03T08:37:40.718781Z"
    },
    "trusted": true
   },
   "outputs": [
    {
     "data": {
      "text/plain": [
       "(224, 224, 3)"
      ]
     },
     "execution_count": 48,
     "metadata": {},
     "output_type": "execute_result"
    }
   ],
   "source": [
    "#Escolhe aleatóriamente uma imagem\n",
    "\n",
    "dir_real = \"dataset_protozoarios\\\\Dataset\\\\\"\n",
    "escolha_dirParasito = choice(os.listdir(dir_real))\n",
    "dir_parasito =  os.path.join(dir_real + escolha_dirParasito) \n",
    "escolha_img = choice(os.listdir(dir_parasito))\n",
    "img_final =  os.path.join(dir_parasito, escolha_img)\n",
    "img_open = Image.open(img_final)\n",
    "\n",
    "#Redimencionamento\n",
    "size = (224, 224)\n",
    "img_rgb = img_open.convert('RGB')\n",
    "img = ImageOps.fit(img_rgb, size, Image.Resampling.LANCZOS)\n",
    "img_array = np.array(img)\n",
    "img_array.shape"
   ]
  },
  {
   "cell_type": "code",
   "execution_count": 49,
   "metadata": {
    "execution": {
     "iopub.execute_input": "2024-03-03T08:37:40.76375Z",
     "iopub.status.busy": "2024-03-03T08:37:40.763374Z",
     "iopub.status.idle": "2024-03-03T08:37:40.770259Z",
     "shell.execute_reply": "2024-03-03T08:37:40.769341Z",
     "shell.execute_reply.started": "2024-03-03T08:37:40.763716Z"
    },
    "trusted": true
   },
   "outputs": [
    {
     "data": {
      "text/plain": [
       "(1, 224, 224, 3)"
      ]
     },
     "execution_count": 49,
     "metadata": {},
     "output_type": "execute_result"
    }
   ],
   "source": [
    "img_array_reshape = img_array.reshape(1, 224, 224, 3)\n",
    "img_array_reshape.shape"
   ]
  },
  {
   "cell_type": "markdown",
   "metadata": {},
   "source": [
    "### MobileNet"
   ]
  },
  {
   "cell_type": "code",
   "execution_count": 61,
   "metadata": {
    "execution": {
     "iopub.execute_input": "2024-03-03T08:37:48.154424Z",
     "iopub.status.busy": "2024-03-03T08:37:48.153557Z",
     "iopub.status.idle": "2024-03-03T08:37:48.826461Z",
     "shell.execute_reply": "2024-03-03T08:37:48.82548Z",
     "shell.execute_reply.started": "2024-03-03T08:37:48.154398Z"
    },
    "trusted": true
   },
   "outputs": [
    {
     "name": "stdout",
     "output_type": "stream",
     "text": [
      "\u001b[1m1/1\u001b[0m \u001b[32m━━━━━━━━━━━━━━━━━━━━\u001b[0m\u001b[37m\u001b[0m \u001b[1m0s\u001b[0m 37ms/step\n",
      "Classe prevista: Entamoeba histolytica com confiança de 100.00%\n"
     ]
    }
   ],
   "source": [
    "d = modelo_mobile.predict(img_array_reshape)\n",
    "pred_index = np.argmax(d)\n",
    "confidence = float(d[0][pred_index]) * 100\n",
    "\n",
    "class_names = ['Entamoeba histolytica', 'Giardia_cyst']  # garanta que a ordem esteja correta\n",
    "predicted_class = class_names[pred_index]\n",
    "\n",
    "print(f\"Classe prevista: {predicted_class} com confiança de {confidence:.2f}%\")\n"
   ]
  },
  {
   "cell_type": "code",
   "execution_count": 62,
   "metadata": {
    "execution": {
     "iopub.execute_input": "2024-03-03T08:37:48.827872Z",
     "iopub.status.busy": "2024-03-03T08:37:48.827594Z",
     "iopub.status.idle": "2024-03-03T08:37:48.832912Z",
     "shell.execute_reply": "2024-03-03T08:37:48.832013Z",
     "shell.execute_reply.started": "2024-03-03T08:37:48.827849Z"
    },
    "trusted": true
   },
   "outputs": [
    {
     "name": "stdout",
     "output_type": "stream",
     "text": [
      "100.0\n"
     ]
    }
   ],
   "source": [
    "acc = np.amax(d) * 100\n",
    "acc = round(acc, 3)\n",
    "print(acc)"
   ]
  },
  {
   "cell_type": "code",
   "execution_count": 63,
   "metadata": {
    "execution": {
     "iopub.execute_input": "2024-03-03T08:37:48.834256Z",
     "iopub.status.busy": "2024-03-03T08:37:48.833978Z",
     "iopub.status.idle": "2024-03-03T08:37:48.846654Z",
     "shell.execute_reply": "2024-03-03T08:37:48.845811Z",
     "shell.execute_reply.started": "2024-03-03T08:37:48.834234Z"
    },
    "trusted": true
   },
   "outputs": [
    {
     "name": "stdout",
     "output_type": "stream",
     "text": [
      "Entamoeba histolytica\n"
     ]
    }
   ],
   "source": [
    "if(indices == 0):\n",
    "    print(\"Entamoeba histolytica\")\n",
    "else:\n",
    "    print(\"Giardia cyst\")"
   ]
  },
  {
   "cell_type": "code",
   "execution_count": 53,
   "metadata": {
    "execution": {
     "iopub.execute_input": "2024-03-03T08:37:48.847926Z",
     "iopub.status.busy": "2024-03-03T08:37:48.847669Z",
     "iopub.status.idle": "2024-03-03T08:37:49.277899Z",
     "shell.execute_reply": "2024-03-03T08:37:49.276953Z",
     "shell.execute_reply.started": "2024-03-03T08:37:48.847904Z"
    },
    "trusted": true
   },
   "outputs": [
    {
     "name": "stdout",
     "output_type": "stream",
     "text": [
      "dataset_protozoarios\\Dataset\\Entamoeba histolytica\\EH44.jpg\n"
     ]
    }
   ],
   "source": [
    "full_img = image.load_img(img_final)\n",
    "print(img_final)\n"
   ]
  },
  {
   "cell_type": "markdown",
   "metadata": {},
   "source": [
    "# Salvando o Modelo"
   ]
  },
  {
   "cell_type": "code",
   "execution_count": 43,
   "metadata": {
    "execution": {
     "iopub.execute_input": "2024-03-03T08:37:49.877939Z",
     "iopub.status.busy": "2024-03-03T08:37:49.877374Z",
     "iopub.status.idle": "2024-03-03T08:37:54.218992Z",
     "shell.execute_reply": "2024-03-03T08:37:54.218183Z",
     "shell.execute_reply.started": "2024-03-03T08:37:49.877905Z"
    },
    "trusted": true
   },
   "outputs": [
    {
     "name": "stderr",
     "output_type": "stream",
     "text": [
      "WARNING:absl:You are saving your model as an HDF5 file via `model.save()` or `keras.saving.save_model(model)`. This file format is considered legacy. We recommend using instead the native Keras format, e.g. `model.save('my_model.keras')` or `keras.saving.save_model(model, 'my_model.keras')`. \n"
     ]
    }
   ],
   "source": [
    "modelo_mobile.save('MobileNet_model.h5')"
   ]
  }
 ],
 "metadata": {
  "kaggle": {
   "accelerator": "nvidiaTeslaT4",
   "dataSources": [
    {
     "datasetId": 4296766,
     "sourceId": 7401721,
     "sourceType": "datasetVersion"
    },
    {
     "datasetId": 4307220,
     "sourceId": 7407785,
     "sourceType": "datasetVersion"
    }
   ],
   "dockerImageVersionId": 30635,
   "isGpuEnabled": true,
   "isInternetEnabled": false,
   "language": "python",
   "sourceType": "notebook"
  },
  "kernelspec": {
   "display_name": ".venv",
   "language": "python",
   "name": "python3"
  },
  "language_info": {
   "codemirror_mode": {
    "name": "ipython",
    "version": 3
   },
   "file_extension": ".py",
   "mimetype": "text/x-python",
   "name": "python",
   "nbconvert_exporter": "python",
   "pygments_lexer": "ipython3",
   "version": "3.12.4"
  }
 },
 "nbformat": 4,
 "nbformat_minor": 4
}
